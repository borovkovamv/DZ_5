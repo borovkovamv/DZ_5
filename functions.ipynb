{
 "cells": [
  {
   "cell_type": "markdown",
   "metadata": {},
   "source": [
    "Вы работаете секретарем и вам постоянно приходят различные документы. Вы должны быть очень внимательны, чтобы не потерять ни один документ. Каталог документов хранится в следующем виде:"
   ]
  },
  {
   "cell_type": "code",
   "execution_count": 1,
   "metadata": {},
   "outputs": [],
   "source": [
    "documents = [\n",
    "    {'type': 'passport', 'number': '2207 876234', 'name': 'Василий Гупкин'},\n",
    "    {'type': 'invoice', 'number': '11-2', 'name': 'Геннадий Покемонов'},\n",
    "    {'type': 'insurance', 'number': '10006', 'name': 'Аристарх Павлов'}\n",
    "]"
   ]
  },
  {
   "cell_type": "markdown",
   "metadata": {},
   "source": [
    "Перечень полок, на которых находятся документы хранится в следующем виде:"
   ]
  },
  {
   "cell_type": "code",
   "execution_count": 2,
   "metadata": {},
   "outputs": [],
   "source": [
    "directories = {\n",
    "    '1': ['2207 876234', '11-2'],\n",
    "    '2': ['10006'],\n",
    "    '3': []\n",
    "}"
   ]
  },
  {
   "cell_type": "markdown",
   "metadata": {},
   "source": [
    "Необходимо реализовать пользовательские команды (внимание! это не название функций, которые должны быть выразительными, а команды, которые вводит пользователь, чтобы получить необходимый результат):\n",
    "  \n",
    "- p – people – команда, которая спросит номер документа и выведет имя человека, которому он принадлежит;  \n",
    "- s – shelf – команда, которая спросит номер документа и выведет номер полки, на которой он находится  \n",
    "*Правильно обработайте ситуации, когда пользователь будет вводить несуществующий документ*.\n",
    "- l – list – команда, которая выведет список всех документов в формате   \n",
    "**passport \"2207 876234\" \"Василий Гупкин\"**  \n",
    "- as – add shelf – команда, которая спросит номер новой полки и добавит ее в перечень. *Предусмотрите случай, когда пользователь добавляет полку, которая уже существует*.\n",
    "- d – delete – команда, которая спросит номер документа и удалит его из каталога и из перечня полок. *Предусмотрите сценарий, когда пользователь вводит несуществующий документ*;  \n",
    "- m – move – команда, которая спросит номер документа и целевую полку и переместит его с текущей полки на целевую. *Корректно обработайте кейсы, когда пользователь пытается переместить несуществующий документ или переместить документ на несуществующую полку*;  \n",
    "- a – add – команда, которая добавит новый документ в каталог и в перечень полок, спросив его номер, тип, имя владельца и номер полки, на котором он будет храниться. *Корректно обработайте ситуацию, когда пользователь будет пытаться добавить документ на несуществующую полку*."
   ]
  },
  {
   "cell_type": "code",
   "execution_count": 3,
   "metadata": {},
   "outputs": [],
   "source": [
    "def document_holder(documents_loc):\n",
    "    number_document = input('Введите номер документа: ')\n",
    "    owner = [document_dict['name'] for document_dict in documents_loc if number_document in document_dict.values()]\n",
    "    if len(owner) != 0:\n",
    "        owner = ''.join(owner)\n",
    "        print(f'Владалец документа: {owner}')\n",
    "    else:\n",
    "        print('Введен некорректный номер документа!') \n",
    "    "
   ]
  },
  {
   "cell_type": "code",
   "execution_count": 4,
   "metadata": {},
   "outputs": [],
   "source": [
    "def get_shelf(directories_loc):\n",
    "    number_document = input('Введите номер документа: ')\n",
    "    shelf = [shelf for (shelf, value) in directories_loc.items() if number_document in value]\n",
    "    if len(shelf) != 0:\n",
    "        shelf = ''.join(shelf)\n",
    "        print(f'Номер полки: {shelf}')\n",
    "    else:\n",
    "        print('Введен некорректный номер документа!') "
   ]
  },
  {
   "cell_type": "code",
   "execution_count": 5,
   "metadata": {},
   "outputs": [],
   "source": [
    "def get_list(documents_loc):\n",
    "    for document_dict in documents_loc:        \n",
    "        print(document_dict['type'], ' \"' , document_dict['number'], '\" \"', document_dict['name'], '\"', sep='')"
   ]
  },
  {
   "cell_type": "code",
   "execution_count": 6,
   "metadata": {},
   "outputs": [],
   "source": [
    "def add_shelf(directories):\n",
    "    new_shelf = input('Введите номер новой полки: ')\n",
    "    if new_shelf in directories.keys():\n",
    "        print(f'Номер полки {new_shelf} уже существует!')\n",
    "    else:\n",
    "        directories[new_shelf] = []\n",
    "        print('Новый номер полки добавлен')"
   ]
  },
  {
   "cell_type": "code",
   "execution_count": 7,
   "metadata": {},
   "outputs": [],
   "source": [
    "def delete_document(documents, directories):\n",
    "    number_document = input('Введите номер документа: ')\n",
    "    document_dict = [document_dict for document_dict in documents if number_document in document_dict.values()]\n",
    "    if len(document_dict) != 0:\n",
    "        documents.remove(document_dict[0])\n",
    "        tuple_ls = [(key, value) for (key, value) in directories.items() if number_document in value]\n",
    "        directories[tuple_ls[0][0]].remove(number_document) \n",
    "        print(f'Документ {number_document} удален из каталога')\n",
    "    else:\n",
    "        print('Введен некорректный номер документа!')"
   ]
  },
  {
   "cell_type": "code",
   "execution_count": 8,
   "metadata": {},
   "outputs": [],
   "source": [
    "def remove_document(directories):\n",
    "    number_document = input('Введите номер документа: ')\n",
    "    shelf = input('Введите номер полки: ')\n",
    "    \n",
    "    find_list = [(key, value) for (key, value) in directories.items() if number_document in value]\n",
    "    can_move = True\n",
    "\n",
    "    if len(find_list) == 0:\n",
    "        print(f'Введенного номера документа {number_document} не существует!')\n",
    "        can_move = False\n",
    "    if shelf not in directories.keys():\n",
    "        print(f'Введенный номер полки {shelf} не существует!')\n",
    "        can_move = False\n",
    "\n",
    "    if can_move:\n",
    "        if find_list[0][0] != shelf:\n",
    "            directories[find_list[0][0]].remove(number_document)\n",
    "            directories[shelf].append(number_document)\n",
    "            print(f'Документ {number_document} перемещен на полку {shelf}')\n",
    "        else:\n",
    "            print(f'Документ {number_document} уже находится на полке {shelf}')"
   ]
  },
  {
   "cell_type": "code",
   "execution_count": 9,
   "metadata": {},
   "outputs": [],
   "source": [
    "def add_document(documents, directories):\n",
    "    number_document = input('Введите номер документа: ')\n",
    "    type_document = input('Введите тип документа: ')\n",
    "    owner_document = input('Введите Имя владельца документа: ')\n",
    "    shelf = input('Введите номер полки: ')\n",
    "\n",
    "    if shelf not in directories.keys():\n",
    "        print(f'Введенный номер полки {shelf} не существует!') \n",
    "    else:\n",
    "        documents.append({'type': type_document, 'number': number_document, 'name': owner_document})\n",
    "        directories[shelf].append(number_document)\n",
    "        print(f'Новый документ добавлен в каталог') \n"
   ]
  },
  {
   "cell_type": "code",
   "execution_count": 10,
   "metadata": {},
   "outputs": [
    {
     "name": "stdout",
     "output_type": "stream",
     "text": [
      "Введите команду: p\n",
      "Введите номер документа: 11-2\n",
      "Владалец документа: Геннадий Покемонов\n"
     ]
    }
   ],
   "source": [
    "user_input = input('Введите команду: ')\n",
    "if user_input in ['p','s','l','as','d','m','a']:\n",
    "    if user_input == 'p':\n",
    "        document_holder(documents)\n",
    "    elif user_input == 's':\n",
    "        get_shelf(directories)\n",
    "    elif user_input == 'l':\n",
    "        get_list(documents)\n",
    "    elif user_input == 'as':\n",
    "        add_shelf(directories)\n",
    "    elif user_input == 'd':\n",
    "        delete_document(documents, directories)\n",
    "    elif user_input == 'm':\n",
    "        remove_document(directories)\n",
    "    elif user_input == 'a':\n",
    "        add_document(documents, directories)   \n",
    "else:    \n",
    "    print('Введена неверная команда!')"
   ]
  },
  {
   "cell_type": "code",
   "execution_count": null,
   "metadata": {},
   "outputs": [],
   "source": []
  }
 ],
 "metadata": {
  "kernelspec": {
   "display_name": "Python 3",
   "language": "python",
   "name": "python3"
  },
  "language_info": {
   "codemirror_mode": {
    "name": "ipython",
    "version": 3
   },
   "file_extension": ".py",
   "mimetype": "text/x-python",
   "name": "python",
   "nbconvert_exporter": "python",
   "pygments_lexer": "ipython3",
   "version": "3.7.6"
  }
 },
 "nbformat": 4,
 "nbformat_minor": 2
}
